{
 "cells": [
  {
   "cell_type": "code",
   "execution_count": null,
   "id": "28b89428",
   "metadata": {},
   "outputs": [],
   "source": [
    "Создайте массив , состоящий из 10 случайных целых чисел из диапазона от 1 до 20, \n",
    "затем создайте массив состоящий из 10 элементов, начиная с 2. Выведите значения этих массивов, \n",
    "а также их сумму, при помощи функции print()\n",
    "\n",
    "Создайте массив , состоящий из 7 случайных целых чисел из диапазона от 0 до 9, затем создайте \n",
    "новый массив состоящий из 7 элементов первого массива, увеличенных в 3 раза. Выведите значения этих массивов \n",
    "при помощи функции print()\n",
    "\n",
    "Создайте массив состоящий из квадратных корней 20 элементов по порядку, начиная с 7. Выведите значение массива \n",
    "при помощи функции print()"
   ]
  },
  {
   "cell_type": "code",
   "execution_count": 2,
   "id": "d42b012e",
   "metadata": {},
   "outputs": [
    {
     "data": {
      "text/plain": [
       "array([12, 13, 11,  9, 18,  7,  7,  9, 10,  7])"
      ]
     },
     "execution_count": 2,
     "metadata": {},
     "output_type": "execute_result"
    }
   ],
   "source": [
    "import numpy as np\n",
    "arr1 = np.random.randint(1,21,10)\n",
    "arr1"
   ]
  },
  {
   "cell_type": "code",
   "execution_count": 3,
   "id": "3cccd852",
   "metadata": {},
   "outputs": [
    {
     "data": {
      "text/plain": [
       "array([ 8,  3,  2, 17, 16,  7,  5, 12, 14, 20])"
      ]
     },
     "execution_count": 3,
     "metadata": {},
     "output_type": "execute_result"
    }
   ],
   "source": [
    "arr2 = np.random.randint(2,21,10)\n",
    "arr2"
   ]
  },
  {
   "cell_type": "code",
   "execution_count": 4,
   "id": "23631323",
   "metadata": {},
   "outputs": [
    {
     "data": {
      "text/plain": [
       "array([20, 16, 13, 26, 34, 14, 12, 21, 24, 27])"
      ]
     },
     "execution_count": 4,
     "metadata": {},
     "output_type": "execute_result"
    }
   ],
   "source": [
    "arr1+arr2"
   ]
  },
  {
   "cell_type": "code",
   "execution_count": 6,
   "id": "1e68b8c1",
   "metadata": {},
   "outputs": [
    {
     "data": {
      "text/plain": [
       "array([1, 1, 3, 6, 5, 6, 6])"
      ]
     },
     "execution_count": 6,
     "metadata": {},
     "output_type": "execute_result"
    }
   ],
   "source": [
    "\n",
    "\n",
    "rand_array = np.random.randint(0, 10, 7)\n",
    "rand_array"
   ]
  },
  {
   "cell_type": "code",
   "execution_count": 8,
   "id": "841c2243",
   "metadata": {},
   "outputs": [
    {
     "data": {
      "text/plain": [
       "array([ 3,  3,  9, 18, 15, 18, 18])"
      ]
     },
     "execution_count": 8,
     "metadata": {},
     "output_type": "execute_result"
    }
   ],
   "source": [
    "rand2_array = rand_array * 3\n",
    "rand2_array"
   ]
  },
  {
   "cell_type": "code",
   "execution_count": 9,
   "id": "6de92dad",
   "metadata": {},
   "outputs": [
    {
     "data": {
      "text/plain": [
       "array([ 7.,  8.,  9., 10., 11., 12., 13., 14., 15., 16., 17., 18., 19.,\n",
       "       20., 21., 22., 23., 24., 25., 26.])"
      ]
     },
     "execution_count": 9,
     "metadata": {},
     "output_type": "execute_result"
    }
   ],
   "source": [
    "np_array = np.linspace(7,26, 20)\n",
    "np_array"
   ]
  },
  {
   "cell_type": "code",
   "execution_count": 14,
   "id": "079ea915",
   "metadata": {},
   "outputs": [
    {
     "data": {
      "text/plain": [
       "array([2.64575131, 2.82842712, 3.        , 3.16227766, 3.31662479,\n",
       "       3.46410162, 3.60555128, 3.74165739, 3.87298335, 4.        ,\n",
       "       4.12310563, 4.24264069, 4.35889894, 4.47213595, 4.58257569,\n",
       "       4.69041576, 4.79583152, 4.89897949, 5.        , 5.09901951])"
      ]
     },
     "execution_count": 14,
     "metadata": {},
     "output_type": "execute_result"
    }
   ],
   "source": [
    "np2_array = np.sqrt(np_array)\n",
    "np2_array"
   ]
  }
 ],
 "metadata": {
  "kernelspec": {
   "display_name": "Python 3 (ipykernel)",
   "language": "python",
   "name": "python3"
  },
  "language_info": {
   "codemirror_mode": {
    "name": "ipython",
    "version": 3
   },
   "file_extension": ".py",
   "mimetype": "text/x-python",
   "name": "python",
   "nbconvert_exporter": "python",
   "pygments_lexer": "ipython3",
   "version": "3.9.7"
  }
 },
 "nbformat": 4,
 "nbformat_minor": 5
}
