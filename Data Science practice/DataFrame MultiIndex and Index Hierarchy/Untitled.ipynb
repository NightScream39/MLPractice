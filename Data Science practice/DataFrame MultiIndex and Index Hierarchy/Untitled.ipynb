{
 "cells": [
  {
   "cell_type": "code",
   "execution_count": null,
   "id": "054d603e",
   "metadata": {},
   "outputs": [],
   "source": [
    "Выберите значение C-left из столбца X\n",
    "\n",
    "Создайте названия. Для внешних индексов - 'Points', для внутренних - 'Sides'\n",
    "\n",
    "Выберите данные всех правых сторон столбца Y"
   ]
  },
  {
   "cell_type": "code",
   "execution_count": 6,
   "id": "2cb48845",
   "metadata": {},
   "outputs": [
    {
     "data": {
      "text/html": [
       "<div>\n",
       "<style scoped>\n",
       "    .dataframe tbody tr th:only-of-type {\n",
       "        vertical-align: middle;\n",
       "    }\n",
       "\n",
       "    .dataframe tbody tr th {\n",
       "        vertical-align: top;\n",
       "    }\n",
       "\n",
       "    .dataframe thead th {\n",
       "        text-align: right;\n",
       "    }\n",
       "</style>\n",
       "<table border=\"1\" class=\"dataframe\">\n",
       "  <thead>\n",
       "    <tr style=\"text-align: right;\">\n",
       "      <th></th>\n",
       "      <th></th>\n",
       "      <th>X</th>\n",
       "      <th>Y</th>\n",
       "      <th>Z</th>\n",
       "    </tr>\n",
       "  </thead>\n",
       "  <tbody>\n",
       "    <tr>\n",
       "      <th rowspan=\"2\" valign=\"top\">A</th>\n",
       "      <th>left</th>\n",
       "      <td>-1.245065</td>\n",
       "      <td>-0.561997</td>\n",
       "      <td>1.887820</td>\n",
       "    </tr>\n",
       "    <tr>\n",
       "      <th>right</th>\n",
       "      <td>1.006120</td>\n",
       "      <td>-0.539684</td>\n",
       "      <td>0.176010</td>\n",
       "    </tr>\n",
       "    <tr>\n",
       "      <th rowspan=\"2\" valign=\"top\">B</th>\n",
       "      <th>left</th>\n",
       "      <td>1.496633</td>\n",
       "      <td>-1.481954</td>\n",
       "      <td>-1.330855</td>\n",
       "    </tr>\n",
       "    <tr>\n",
       "      <th>right</th>\n",
       "      <td>0.464110</td>\n",
       "      <td>1.021082</td>\n",
       "      <td>1.148994</td>\n",
       "    </tr>\n",
       "    <tr>\n",
       "      <th rowspan=\"2\" valign=\"top\">C</th>\n",
       "      <th>left</th>\n",
       "      <td>0.218772</td>\n",
       "      <td>-0.250222</td>\n",
       "      <td>0.138869</td>\n",
       "    </tr>\n",
       "    <tr>\n",
       "      <th>right</th>\n",
       "      <td>-0.504764</td>\n",
       "      <td>0.507749</td>\n",
       "      <td>0.390828</td>\n",
       "    </tr>\n",
       "  </tbody>\n",
       "</table>\n",
       "</div>"
      ],
      "text/plain": [
       "                X         Y         Z\n",
       "A left  -1.245065 -0.561997  1.887820\n",
       "  right  1.006120 -0.539684  0.176010\n",
       "B left   1.496633 -1.481954 -1.330855\n",
       "  right  0.464110  1.021082  1.148994\n",
       "C left   0.218772 -0.250222  0.138869\n",
       "  right -0.504764  0.507749  0.390828"
      ]
     },
     "execution_count": 6,
     "metadata": {},
     "output_type": "execute_result"
    }
   ],
   "source": [
    "import numpy as np\n",
    "import pandas as pd\n",
    " \n",
    "mult_ind = pd.MultiIndex(levels=[['A', 'B', 'C'], ['left', 'right']],\n",
    "                     codes=[[0, 0, 1, 1, 2, 2], [0, 1, 0, 1, 0, 1]])\n",
    "df = pd.DataFrame(np.random.randn(6, 3), mult_ind, ['X', 'Y', 'Z'])\n",
    "\n",
    "df"
   ]
  },
  {
   "cell_type": "code",
   "execution_count": 8,
   "id": "cbc88c94",
   "metadata": {},
   "outputs": [
    {
     "data": {
      "text/plain": [
       "0.21877237802395313"
      ]
     },
     "execution_count": 8,
     "metadata": {},
     "output_type": "execute_result"
    }
   ],
   "source": [
    "df.loc['C'].loc['left']['X']"
   ]
  },
  {
   "cell_type": "code",
   "execution_count": 11,
   "id": "601d548f",
   "metadata": {},
   "outputs": [
    {
     "data": {
      "text/html": [
       "<div>\n",
       "<style scoped>\n",
       "    .dataframe tbody tr th:only-of-type {\n",
       "        vertical-align: middle;\n",
       "    }\n",
       "\n",
       "    .dataframe tbody tr th {\n",
       "        vertical-align: top;\n",
       "    }\n",
       "\n",
       "    .dataframe thead th {\n",
       "        text-align: right;\n",
       "    }\n",
       "</style>\n",
       "<table border=\"1\" class=\"dataframe\">\n",
       "  <thead>\n",
       "    <tr style=\"text-align: right;\">\n",
       "      <th></th>\n",
       "      <th></th>\n",
       "      <th>X</th>\n",
       "      <th>Y</th>\n",
       "      <th>Z</th>\n",
       "    </tr>\n",
       "    <tr>\n",
       "      <th>Points</th>\n",
       "      <th>Sides</th>\n",
       "      <th></th>\n",
       "      <th></th>\n",
       "      <th></th>\n",
       "    </tr>\n",
       "  </thead>\n",
       "  <tbody>\n",
       "    <tr>\n",
       "      <th rowspan=\"2\" valign=\"top\">A</th>\n",
       "      <th>left</th>\n",
       "      <td>-1.245065</td>\n",
       "      <td>-0.561997</td>\n",
       "      <td>1.887820</td>\n",
       "    </tr>\n",
       "    <tr>\n",
       "      <th>right</th>\n",
       "      <td>1.006120</td>\n",
       "      <td>-0.539684</td>\n",
       "      <td>0.176010</td>\n",
       "    </tr>\n",
       "    <tr>\n",
       "      <th rowspan=\"2\" valign=\"top\">B</th>\n",
       "      <th>left</th>\n",
       "      <td>1.496633</td>\n",
       "      <td>-1.481954</td>\n",
       "      <td>-1.330855</td>\n",
       "    </tr>\n",
       "    <tr>\n",
       "      <th>right</th>\n",
       "      <td>0.464110</td>\n",
       "      <td>1.021082</td>\n",
       "      <td>1.148994</td>\n",
       "    </tr>\n",
       "    <tr>\n",
       "      <th rowspan=\"2\" valign=\"top\">C</th>\n",
       "      <th>left</th>\n",
       "      <td>0.218772</td>\n",
       "      <td>-0.250222</td>\n",
       "      <td>0.138869</td>\n",
       "    </tr>\n",
       "    <tr>\n",
       "      <th>right</th>\n",
       "      <td>-0.504764</td>\n",
       "      <td>0.507749</td>\n",
       "      <td>0.390828</td>\n",
       "    </tr>\n",
       "  </tbody>\n",
       "</table>\n",
       "</div>"
      ],
      "text/plain": [
       "                     X         Y         Z\n",
       "Points Sides                              \n",
       "A      left  -1.245065 -0.561997  1.887820\n",
       "       right  1.006120 -0.539684  0.176010\n",
       "B      left   1.496633 -1.481954 -1.330855\n",
       "       right  0.464110  1.021082  1.148994\n",
       "C      left   0.218772 -0.250222  0.138869\n",
       "       right -0.504764  0.507749  0.390828"
      ]
     },
     "execution_count": 11,
     "metadata": {},
     "output_type": "execute_result"
    }
   ],
   "source": [
    "df.index.names = ['Points', 'Sides']\n",
    "df"
   ]
  },
  {
   "cell_type": "code",
   "execution_count": 14,
   "id": "3511bc87",
   "metadata": {},
   "outputs": [
    {
     "data": {
      "text/plain": [
       "Points\n",
       "A   -0.539684\n",
       "B    1.021082\n",
       "C    0.507749\n",
       "Name: Y, dtype: float64"
      ]
     },
     "execution_count": 14,
     "metadata": {},
     "output_type": "execute_result"
    }
   ],
   "source": [
    "df.xs('right', level = 'Sides')['Y']"
   ]
  }
 ],
 "metadata": {
  "kernelspec": {
   "display_name": "Python 3 (ipykernel)",
   "language": "python",
   "name": "python3"
  },
  "language_info": {
   "codemirror_mode": {
    "name": "ipython",
    "version": 3
   },
   "file_extension": ".py",
   "mimetype": "text/x-python",
   "name": "python",
   "nbconvert_exporter": "python",
   "pygments_lexer": "ipython3",
   "version": "3.9.7"
  }
 },
 "nbformat": 4,
 "nbformat_minor": 5
}
