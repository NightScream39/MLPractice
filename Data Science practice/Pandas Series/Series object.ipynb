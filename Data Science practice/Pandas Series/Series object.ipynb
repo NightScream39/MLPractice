{
 "cells": [
  {
   "cell_type": "code",
   "execution_count": null,
   "id": "d2f5505f",
   "metadata": {},
   "outputs": [],
   "source": [
    "Создайте объект Series с данными из списка, состоящего из названий семи цветов радуги\n",
    "\n",
    "Создайте объект Series с данными из списка, состоящего из 6 случайных целых чисел от 3 до 7 включительно  \n",
    "и индексами из списка, состоящего из букв a, b, c, d, e, f"
   ]
  },
  {
   "cell_type": "code",
   "execution_count": 4,
   "id": "fadcd68a",
   "metadata": {},
   "outputs": [
    {
     "data": {
      "text/plain": [
       "0          red\n",
       "1       orange\n",
       "2       yellow\n",
       "3        green\n",
       "4         blue\n",
       "5    dark blue\n",
       "6       violet\n",
       "dtype: object"
      ]
     },
     "execution_count": 4,
     "metadata": {},
     "output_type": "execute_result"
    }
   ],
   "source": [
    "import numpy as np\n",
    "import pandas as pd\n",
    "colors_of_rainbow = ['red', 'orange', 'yellow', 'green', 'blue', 'dark blue', 'violet']\n",
    "pd.Series(colors_of_rainbow)"
   ]
  },
  {
   "cell_type": "code",
   "execution_count": 6,
   "id": "b3301aac",
   "metadata": {},
   "outputs": [
    {
     "data": {
      "text/plain": [
       "a    7\n",
       "b    6\n",
       "c    4\n",
       "d    4\n",
       "e    3\n",
       "f    4\n",
       "dtype: int32"
      ]
     },
     "execution_count": 6,
     "metadata": {},
     "output_type": "execute_result"
    }
   ],
   "source": [
    "random_numbers = np.random.randint(3, 8, 6)\n",
    "indexes = ['a', 'b', 'c', 'd', 'e', 'f']\n",
    "pd.Series(random_numbers, indexes)"
   ]
  },
  {
   "cell_type": "code",
   "execution_count": null,
   "id": "0b25f516",
   "metadata": {},
   "outputs": [],
   "source": []
  },
  {
   "cell_type": "code",
   "execution_count": null,
   "id": "c6f1a26c",
   "metadata": {},
   "outputs": [],
   "source": []
  },
  {
   "cell_type": "code",
   "execution_count": null,
   "id": "ebdb1f48",
   "metadata": {},
   "outputs": [],
   "source": []
  },
  {
   "cell_type": "code",
   "execution_count": null,
   "id": "a803b8a5",
   "metadata": {},
   "outputs": [],
   "source": []
  },
  {
   "cell_type": "code",
   "execution_count": null,
   "id": "04f916a1",
   "metadata": {},
   "outputs": [],
   "source": []
  }
 ],
 "metadata": {
  "kernelspec": {
   "display_name": "Python 3 (ipykernel)",
   "language": "python",
   "name": "python3"
  },
  "language_info": {
   "codemirror_mode": {
    "name": "ipython",
    "version": 3
   },
   "file_extension": ".py",
   "mimetype": "text/x-python",
   "name": "python",
   "nbconvert_exporter": "python",
   "pygments_lexer": "ipython3",
   "version": "3.9.7"
  }
 },
 "nbformat": 4,
 "nbformat_minor": 5
}
